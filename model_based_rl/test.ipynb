{
 "cells": [
  {
   "cell_type": "code",
   "execution_count": 3,
   "metadata": {},
   "outputs": [
    {
     "name": "stderr",
     "output_type": "stream",
     "text": [
      "c:\\Users\\elisa\\Documents\\Otoño 2023\\Seminario Robótica\\Tarea 4\\generate_plots.py:42: DeprecationWarning: invalid escape sequence \\c\n",
      "  path_exp_csv = exp_path + '\\cartpole_exp_1' + str(i) + '_' + str(j)\n",
      "c:\\Users\\elisa\\Documents\\Otoño 2023\\Seminario Robótica\\Tarea 4\\generate_plots.py:28: DeprecationWarning: invalid escape sequence \\p\n",
      "  path_exp_csv = exp_path + '\\pendulum_exp_1' + str(i) + '_' + str(j)\n"
     ]
    }
   ],
   "source": [
    "import numpy as np\n",
    "import gym\n",
    "import torch\n",
    "import pandas as pd\n",
    "import matplotlib.pyplot as plt\n",
    "from generate_plots import *\n",
    "import os"
   ]
  },
  {
   "cell_type": "code",
   "execution_count": 6,
   "metadata": {},
   "outputs": [],
   "source": [
    "env_name = 'CartPole-v1'\n",
    "#env_name = 'Pendulum-v1'\n",
    "env = gym.make(env_name)"
   ]
  },
  {
   "cell_type": "code",
   "execution_count": 8,
   "metadata": {},
   "outputs": [
    {
     "data": {
      "text/plain": [
       "'c:\\\\Users\\\\elisa\\\\Documents\\\\Otoño 2023\\\\Seminario Robótica\\\\Tarea 4'"
      ]
     },
     "execution_count": 8,
     "metadata": {},
     "output_type": "execute_result"
    }
   ],
   "source": [
    "exp_path = os.path.abspath('')\n",
    "exp_path"
   ]
  },
  {
   "cell_type": "code",
   "execution_count": 17,
   "metadata": {},
   "outputs": [
    {
     "name": "stderr",
     "output_type": "stream",
     "text": [
      "<>:5: DeprecationWarning: invalid escape sequence \\c\n"
     ]
    },
    {
     "name": "stdout",
     "output_type": "stream",
     "text": [
      "   steps  avg_reward_1  std_reward_1  steps  avg_reward_2  std_reward_2  \\\n",
      "0      0     19.800000      7.058801      0     27.366667     14.311961   \n",
      "1   6000     20.633333     11.528178   6000     21.266667     11.177159   \n",
      "2  12000     23.566667     10.429712  12000     23.600000     12.758265   \n",
      "3  18000     23.366667     10.669218  18000     24.933333     16.500370   \n",
      "4  24000     23.766667     10.075327  24000     21.833333     11.489367   \n",
      "5  30000     26.666667     15.115849  30000     24.966667     13.410154   \n",
      "\n",
      "   steps  avg_reward_3  std_reward_3  \n",
      "0      0     21.866667      9.559405  \n",
      "1   6000     21.633333      8.207652  \n",
      "2  12000     21.266667      8.136065  \n",
      "3  18000     20.733333      8.547644  \n",
      "4  24000     22.533333     10.239575  \n",
      "5  30000     21.366667     10.578227  \n",
      "   steps  avg_reward_1  std_reward_1  steps  avg_reward_2  std_reward_2  \\\n",
      "0      0      9.633333      0.604612      0      9.266667      0.853750   \n",
      "1   6000     47.666667     63.572706   6000      9.433333      0.803465   \n",
      "2  12000    216.366667      9.690144  12000    108.233333     56.584264   \n",
      "3  18000     90.600000      8.890444  18000    340.000000     58.941214   \n",
      "4  24000    414.900000     84.478143  24000    500.000000      0.000000   \n",
      "5  30000    277.700000    190.228310  30000    392.666667     95.678745   \n",
      "\n",
      "   steps  avg_reward_3  std_reward_3  \n",
      "0      0     50.666667     17.972819  \n",
      "1   6000    227.833333     39.600575  \n",
      "2  12000    316.866667     60.418393  \n",
      "3  18000    237.733333     56.162225  \n",
      "4  24000    428.766667    147.152457  \n",
      "5  30000    471.433333     36.359944  \n",
      "   steps  avg_reward_1  std_reward_1  steps  avg_reward_2  std_reward_2  \\\n",
      "0      0     18.266667      6.104279      0     20.433333      8.204403   \n",
      "1   6000    106.466667     15.415865   6000    270.900000    100.278396   \n",
      "2  12000    267.400000     42.602504  12000    248.033333     65.487649   \n",
      "3  18000    258.066667    102.269557  18000    392.333333     75.392455   \n",
      "4  24000    148.900000     27.402372  24000    432.266667     64.009340   \n",
      "5  30000    247.133333     57.036674  30000    500.000000      0.000000   \n",
      "\n",
      "   steps  avg_reward_3  std_reward_3  \n",
      "0      0     23.500000     15.892871  \n",
      "1   6000    458.966667     63.638292  \n",
      "2  12000    176.233333     91.774972  \n",
      "3  18000    121.600000      9.372300  \n",
      "4  24000    330.133333     16.208503  \n",
      "5  30000     78.933333     30.531878  \n"
     ]
    }
   ],
   "source": [
    "for i in range(1,4):\n",
    "    filename = 'cartpole_exp_1' + str(i) + '.png'\n",
    "    df_list = []\n",
    "    for j in range(1,4):\n",
    "        path_exp_csv = exp_path + '\\cartpole_exp_1' + str(i) + '_' + str(j)\n",
    "        df = pd.read_csv(path_exp_csv + '.csv', sep='\\t')\n",
    "        df = df.rename(columns={'avg_reward':'avg_reward_' + str(j), 'std_reward':'std_reward_' + str(j)})\n",
    "        df_list.append(df)\n",
    "    full_df = pd.concat(df_list, axis=1)\n",
    "    print(full_df)\n",
    "    full_df['avg'] = full_df[['avg_reward_1', 'avg_reward_2', 'avg_reward_3']].mean(axis=1)\n",
    "    full_df['std'] = full_df[['avg_reward_1', 'avg_reward_2', 'avg_reward_3']].std(axis=1)\n",
    "    # plot_and_save(full_df, filename)"
   ]
  }
 ],
 "metadata": {
  "kernelspec": {
   "display_name": "Python 3",
   "language": "python",
   "name": "python3"
  },
  "language_info": {
   "codemirror_mode": {
    "name": "ipython",
    "version": 3
   },
   "file_extension": ".py",
   "mimetype": "text/x-python",
   "name": "python",
   "nbconvert_exporter": "python",
   "pygments_lexer": "ipython3",
   "version": "3.8.0"
  },
  "orig_nbformat": 4
 },
 "nbformat": 4,
 "nbformat_minor": 2
}
